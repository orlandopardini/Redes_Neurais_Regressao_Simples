{
 "cells": [
  {
   "cell_type": "markdown",
   "metadata": {
    "id": "WL1wEvsq2atE"
   },
   "source": [
    "# Orlando - Regressão de 1 valor - Automóveis Cruzada"
   ]
  },
  {
   "cell_type": "code",
   "execution_count": 1,
   "metadata": {
    "id": "Nc7BodNh2ijk"
   },
   "outputs": [
    {
     "name": "stdout",
     "output_type": "stream",
     "text": [
      "WARNING:tensorflow:From c:\\Users\\CLIENTE\\anaconda3\\envs\\orlando\\lib\\site-packages\\keras\\src\\backend\\common\\global_state.py:82: The name tf.reset_default_graph is deprecated. Please use tf.compat.v1.reset_default_graph instead.\n",
      "\n"
     ]
    },
    {
     "name": "stderr",
     "output_type": "stream",
     "text": [
      "c:\\Users\\CLIENTE\\anaconda3\\envs\\orlando\\lib\\site-packages\\keras\\src\\layers\\core\\input_layer.py:27: UserWarning: Argument `input_shape` is deprecated. Use `shape` instead.\n",
      "  warnings.warn(\n",
      "c:\\Users\\CLIENTE\\anaconda3\\envs\\orlando\\lib\\site-packages\\keras\\src\\layers\\core\\input_layer.py:27: UserWarning: Argument `input_shape` is deprecated. Use `shape` instead.\n",
      "  warnings.warn(\n",
      "c:\\Users\\CLIENTE\\anaconda3\\envs\\orlando\\lib\\site-packages\\keras\\src\\layers\\core\\input_layer.py:27: UserWarning: Argument `input_shape` is deprecated. Use `shape` instead.\n",
      "  warnings.warn(\n",
      "c:\\Users\\CLIENTE\\anaconda3\\envs\\orlando\\lib\\site-packages\\keras\\src\\layers\\core\\input_layer.py:27: UserWarning: Argument `input_shape` is deprecated. Use `shape` instead.\n",
      "  warnings.warn(\n",
      "c:\\Users\\CLIENTE\\anaconda3\\envs\\orlando\\lib\\site-packages\\keras\\src\\layers\\core\\input_layer.py:27: UserWarning: Argument `input_shape` is deprecated. Use `shape` instead.\n",
      "  warnings.warn(\n"
     ]
    },
    {
     "name": "stdout",
     "output_type": "stream",
     "text": [
      "\n",
      " MAEs por fold: [1987.48 2000.76 1953.   1990.5  1948.47]\n",
      " MAE médio: 1976.04\n",
      " Desvio padrão: 21.17\n",
      "\n",
      "⏱️ Tempo total de execução: 18.96 minutos\n"
     ]
    }
   ],
   "source": [
    "# ---------------------------------------\n",
    "# 1. Bibliotecas\n",
    "# ---------------------------------------\n",
    "import pandas as pd\n",
    "import numpy as np\n",
    "import time\n",
    "import tensorflow as tf\n",
    "from tensorflow.keras.models import Sequential\n",
    "from tensorflow.keras.layers import Dense, InputLayer\n",
    "from tensorflow.keras import backend as K\n",
    "\n",
    "from sklearn.model_selection import cross_val_score\n",
    "from sklearn.preprocessing import OneHotEncoder, MinMaxScaler\n",
    "from sklearn.compose import ColumnTransformer\n",
    "from scikeras.wrappers import KerasRegressor\n",
    "\n",
    "# ---------------------------------------\n",
    "# 2. Tempo de execução\n",
    "# ---------------------------------------\n",
    "inicio = time.time()\n",
    "\n",
    "# ---------------------------------------\n",
    "# 3. Carregamento da base de dados\n",
    "# ---------------------------------------\n",
    "base = pd.read_csv('autos.csv', encoding='ISO-8859-1')\n",
    "\n",
    "# Remoção de colunas irrelevantes\n",
    "colunas_remover = ['dateCrawled', 'dateCreated', 'nrOfPictures', \n",
    "                   'postalCode', 'lastSeen', 'name', 'seller', 'offerType']\n",
    "base.drop(columns=colunas_remover, inplace=True)\n",
    "\n",
    "# Remoção de outliers (preços absurdos)\n",
    "base = base[(base['price'] > 100) & (base['price'] < 100000)]\n",
    "\n",
    "# Preenchimento de valores nulos com valores comuns\n",
    "valores = {\n",
    "    'vehicleType': 'limousine',\n",
    "    'gearbox': 'manuell',\n",
    "    'model': 'golf',\n",
    "    'fuelType': 'benzin',\n",
    "    'notRepairedDamage': 'nein'\n",
    "}\n",
    "base.fillna(value=valores, inplace=True)\n",
    "\n",
    "# ---------------------------------------\n",
    "# 4. Separação entre X e y\n",
    "# ---------------------------------------\n",
    "X = base.iloc[:, 1:12].values  # exclui 'price'\n",
    "y = base.iloc[:, 0].values     # apenas 'price'\n",
    "\n",
    "# ---------------------------------------\n",
    "# 5. OneHotEncoder com saída densa\n",
    "# ---------------------------------------\n",
    "categoricas = [0, 1, 3, 5, 8, 9, 10]\n",
    "transformador = ColumnTransformer(transformers=[\n",
    "    (\"OneHot\", OneHotEncoder(sparse_output=False), categoricas)\n",
    "], remainder='passthrough')\n",
    "\n",
    "X = transformador.fit_transform(X)\n",
    "\n",
    "# ---------------------------------------\n",
    "# 6. Normalização dos dados numéricos\n",
    "# ---------------------------------------\n",
    "scaler = MinMaxScaler()\n",
    "X = scaler.fit_transform(X)\n",
    "\n",
    "# ---------------------------------------\n",
    "# 7. Definição da rede\n",
    "# ---------------------------------------\n",
    "def criar_rede():\n",
    "    K.clear_session()\n",
    "    modelo = Sequential([\n",
    "        InputLayer(input_shape=(X.shape[1],)),\n",
    "        Dense(units=158, activation='relu'),\n",
    "        Dense(units=158, activation='relu'),\n",
    "        Dense(units=1, activation='linear')\n",
    "    ])\n",
    "    modelo.compile(optimizer='adam',\n",
    "                   loss='mean_absolute_error',\n",
    "                   metrics=['mean_absolute_error'])\n",
    "    return modelo\n",
    "\n",
    "# ---------------------------------------\n",
    "# 8. Empacotamento com Scikeras\n",
    "# ---------------------------------------\n",
    "regressor = KerasRegressor(\n",
    "    model=criar_rede,\n",
    "    epochs=100,\n",
    "    batch_size=300,\n",
    "    verbose=0\n",
    ")\n",
    "\n",
    "# ---------------------------------------\n",
    "# 9. Validação cruzada com 5 folds\n",
    "# ---------------------------------------\n",
    "resultados = cross_val_score(\n",
    "    estimator=regressor,\n",
    "    X=X,\n",
    "    y=y,\n",
    "    cv=5,\n",
    "    scoring='neg_mean_absolute_error'\n",
    ")\n",
    "\n",
    "# ---------------------------------------\n",
    "# 10. Exibição dos resultados\n",
    "# ---------------------------------------\n",
    "maes = -resultados  # transformando para valores positivos\n",
    "\n",
    "print(f\"\\n MAEs por fold: {np.round(maes, 2)}\")\n",
    "print(f\" MAE médio: {maes.mean():.2f}\")\n",
    "print(f\" Desvio padrão: {maes.std():.2f}\")\n",
    "\n",
    "fim = time.time()\n",
    "print(f\"\\n⏱️ Tempo total de execução: {(fim - inicio)/60:.2f} minutos\")\n"
   ]
  }
 ],
 "metadata": {
  "colab": {
   "provenance": []
  },
  "kernelspec": {
   "display_name": "orlando",
   "language": "python",
   "name": "python3"
  },
  "language_info": {
   "codemirror_mode": {
    "name": "ipython",
    "version": 3
   },
   "file_extension": ".py",
   "mimetype": "text/x-python",
   "name": "python",
   "nbconvert_exporter": "python",
   "pygments_lexer": "ipython3",
   "version": "3.9.20"
  }
 },
 "nbformat": 4,
 "nbformat_minor": 0
}
